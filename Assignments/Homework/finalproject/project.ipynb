{
 "cells": [
  {
   "cell_type": "code",
   "execution_count": 1,
   "id": "63107443",
   "metadata": {},
   "outputs": [],
   "source": [
    "#pip install -U git+https://github.com/coin-or/pulp"
   ]
  },
  {
   "cell_type": "code",
   "execution_count": 2,
   "id": "733f37a6",
   "metadata": {},
   "outputs": [
    {
     "data": {
      "text/html": [
       "<div>\n",
       "<style scoped>\n",
       "    .dataframe tbody tr th:only-of-type {\n",
       "        vertical-align: middle;\n",
       "    }\n",
       "\n",
       "    .dataframe tbody tr th {\n",
       "        vertical-align: top;\n",
       "    }\n",
       "\n",
       "    .dataframe thead th {\n",
       "        text-align: right;\n",
       "    }\n",
       "</style>\n",
       "<table border=\"1\" class=\"dataframe\">\n",
       "  <thead>\n",
       "    <tr style=\"text-align: right;\">\n",
       "      <th></th>\n",
       "      <th>ID</th>\n",
       "      <th>Description</th>\n",
       "      <th>Calories</th>\n",
       "      <th>Protein</th>\n",
       "      <th>TotalFat</th>\n",
       "      <th>Carbohydrate</th>\n",
       "      <th>Sodium</th>\n",
       "      <th>SaturatedFat</th>\n",
       "      <th>Cholesterol</th>\n",
       "      <th>Sugar</th>\n",
       "      <th>Calcium</th>\n",
       "      <th>Iron</th>\n",
       "      <th>Potassium</th>\n",
       "      <th>VitaminC</th>\n",
       "      <th>VitaminE</th>\n",
       "      <th>VitaminD</th>\n",
       "    </tr>\n",
       "  </thead>\n",
       "  <tbody>\n",
       "    <tr>\n",
       "      <th>0</th>\n",
       "      <td>1001</td>\n",
       "      <td>BUTTER,WITH SALT</td>\n",
       "      <td>717.0</td>\n",
       "      <td>0.85</td>\n",
       "      <td>81.11</td>\n",
       "      <td>0.06</td>\n",
       "      <td>714.0</td>\n",
       "      <td>51.368</td>\n",
       "      <td>215.0</td>\n",
       "      <td>0.06</td>\n",
       "      <td>24.0</td>\n",
       "      <td>0.02</td>\n",
       "      <td>24.0</td>\n",
       "      <td>0.0</td>\n",
       "      <td>2.32</td>\n",
       "      <td>1.5</td>\n",
       "    </tr>\n",
       "    <tr>\n",
       "      <th>1</th>\n",
       "      <td>1002</td>\n",
       "      <td>BUTTER,WHIPPED,WITH SALT</td>\n",
       "      <td>717.0</td>\n",
       "      <td>0.85</td>\n",
       "      <td>81.11</td>\n",
       "      <td>0.06</td>\n",
       "      <td>827.0</td>\n",
       "      <td>50.489</td>\n",
       "      <td>219.0</td>\n",
       "      <td>0.06</td>\n",
       "      <td>24.0</td>\n",
       "      <td>0.16</td>\n",
       "      <td>26.0</td>\n",
       "      <td>0.0</td>\n",
       "      <td>2.32</td>\n",
       "      <td>1.5</td>\n",
       "    </tr>\n",
       "    <tr>\n",
       "      <th>2</th>\n",
       "      <td>1003</td>\n",
       "      <td>BUTTER OIL,ANHYDROUS</td>\n",
       "      <td>876.0</td>\n",
       "      <td>0.28</td>\n",
       "      <td>99.48</td>\n",
       "      <td>0.00</td>\n",
       "      <td>2.0</td>\n",
       "      <td>61.924</td>\n",
       "      <td>256.0</td>\n",
       "      <td>0.00</td>\n",
       "      <td>4.0</td>\n",
       "      <td>0.00</td>\n",
       "      <td>5.0</td>\n",
       "      <td>0.0</td>\n",
       "      <td>2.80</td>\n",
       "      <td>1.8</td>\n",
       "    </tr>\n",
       "    <tr>\n",
       "      <th>3</th>\n",
       "      <td>1004</td>\n",
       "      <td>CHEESE,BLUE</td>\n",
       "      <td>353.0</td>\n",
       "      <td>21.40</td>\n",
       "      <td>28.74</td>\n",
       "      <td>2.34</td>\n",
       "      <td>1395.0</td>\n",
       "      <td>18.669</td>\n",
       "      <td>75.0</td>\n",
       "      <td>0.50</td>\n",
       "      <td>528.0</td>\n",
       "      <td>0.31</td>\n",
       "      <td>256.0</td>\n",
       "      <td>0.0</td>\n",
       "      <td>0.25</td>\n",
       "      <td>0.5</td>\n",
       "    </tr>\n",
       "    <tr>\n",
       "      <th>4</th>\n",
       "      <td>1005</td>\n",
       "      <td>CHEESE,BRICK</td>\n",
       "      <td>371.0</td>\n",
       "      <td>23.24</td>\n",
       "      <td>29.68</td>\n",
       "      <td>2.79</td>\n",
       "      <td>560.0</td>\n",
       "      <td>18.764</td>\n",
       "      <td>94.0</td>\n",
       "      <td>0.51</td>\n",
       "      <td>674.0</td>\n",
       "      <td>0.43</td>\n",
       "      <td>136.0</td>\n",
       "      <td>0.0</td>\n",
       "      <td>0.26</td>\n",
       "      <td>0.5</td>\n",
       "    </tr>\n",
       "  </tbody>\n",
       "</table>\n",
       "</div>"
      ],
      "text/plain": [
       "     ID               Description  Calories  Protein  TotalFat  Carbohydrate  \\\n",
       "0  1001          BUTTER,WITH SALT     717.0     0.85     81.11          0.06   \n",
       "1  1002  BUTTER,WHIPPED,WITH SALT     717.0     0.85     81.11          0.06   \n",
       "2  1003      BUTTER OIL,ANHYDROUS     876.0     0.28     99.48          0.00   \n",
       "3  1004               CHEESE,BLUE     353.0    21.40     28.74          2.34   \n",
       "4  1005              CHEESE,BRICK     371.0    23.24     29.68          2.79   \n",
       "\n",
       "   Sodium  SaturatedFat  Cholesterol  Sugar  Calcium  Iron  Potassium  \\\n",
       "0   714.0        51.368        215.0   0.06     24.0  0.02       24.0   \n",
       "1   827.0        50.489        219.0   0.06     24.0  0.16       26.0   \n",
       "2     2.0        61.924        256.0   0.00      4.0  0.00        5.0   \n",
       "3  1395.0        18.669         75.0   0.50    528.0  0.31      256.0   \n",
       "4   560.0        18.764         94.0   0.51    674.0  0.43      136.0   \n",
       "\n",
       "   VitaminC  VitaminE  VitaminD  \n",
       "0       0.0      2.32       1.5  \n",
       "1       0.0      2.32       1.5  \n",
       "2       0.0      2.80       1.8  \n",
       "3       0.0      0.25       0.5  \n",
       "4       0.0      0.26       0.5  "
      ]
     },
     "execution_count": 2,
     "metadata": {},
     "output_type": "execute_result"
    }
   ],
   "source": [
    "import pandas as pd\n",
    "import numpy as np\n",
    "from pulp import *\n",
    "\n",
    "df = pd.read_csv('USDA.csv')\n",
    "df = df.fillna(0)\n",
    "df.head()"
   ]
  },
  {
   "cell_type": "code",
   "execution_count": 3,
   "id": "f063361a",
   "metadata": {},
   "outputs": [],
   "source": [
    "data = np.array(df)\n",
    "data[data == None] = 0\n",
    "\n",
    "Calories_ = data[:,2].astype(np.float64)\n",
    "Protein_ = data[:,3].astype(np.float64)\n",
    "TotalFat_ = data[:,4].astype(np.float64)\n",
    "Carbohydrate_ = data[:,5].astype(np.float64)\n",
    "Sodium_  = data[:,6].astype(np.float64)\n",
    "SaturatedFat_ = data[:,7].astype(np.float64)\n",
    "Cholesterol_ =  data[:,8].astype(np.float64)\n",
    "Sugar_ = data[:,9].astype(np.float64)\n",
    "Calcium_ = data[:,10].astype(np.float64)\n",
    "Iron_ = data[:,11].astype(np.float64)\n",
    "Potassium_ = data[:,12].astype(np.float64)\n",
    "VitaminC_ = data[:,13].astype(np.float64) \n",
    "VitaminE_ =  data[:,14].astype(np.float64)\n",
    "VitaminD_  = data[:,15].astype(np.float64)\n",
    "\n",
    "\n",
    "cost = np.random.uniform(100, size=(data.shape[0],1))"
   ]
  },
  {
   "cell_type": "code",
   "execution_count": 4,
   "id": "c8db2149",
   "metadata": {},
   "outputs": [],
   "source": [
    "food_items = list(df['Description'])\n",
    "\n",
    "calories = dict(zip(food_items,Calories_))\n",
    "\n",
    "cholesterol = dict(zip(food_items,Cholesterol_))\n",
    "\n",
    "fat = dict(zip(food_items,TotalFat_))\n",
    "\n",
    "sodium = dict(zip(food_items,Sodium_))\n",
    "\n",
    "carbs = dict(zip(food_items,Carbohydrate_))\n",
    "\n",
    "protein = dict(zip(food_items,Protein_))\n",
    "\n",
    "vit_C = dict(zip(food_items,VitaminC_))\n",
    "\n",
    "calcium = dict(zip(food_items,Calcium_))\n",
    "\n",
    "iron = dict(zip(food_items,Iron_))\n",
    "\n",
    "vit_E = dict(zip(food_items,VitaminE_))\n",
    "\n",
    "Sugar = dict(zip(food_items,Sugar_))\n",
    "\n",
    "costs = dict(zip(food_items,cost))"
   ]
  },
  {
   "cell_type": "code",
   "execution_count": 5,
   "id": "028339a8",
   "metadata": {},
   "outputs": [],
   "source": [
    "food_vars = LpVariable.dicts(\"Food name :\",food_items,0,cat='Continuous')"
   ]
  },
  {
   "cell_type": "code",
   "execution_count": 6,
   "id": "5e9c9dfb",
   "metadata": {},
   "outputs": [
    {
     "name": "stderr",
     "output_type": "stream",
     "text": [
      "C:\\Anaconda3\\envs\\program\\lib\\site-packages\\pulp\\pulp.py:1355: UserWarning: Spaces are not permitted in the name. Converted to '_'\n",
      "  warnings.warn(\"Spaces are not permitted in the name. Converted to '_'\")\n"
     ]
    }
   ],
   "source": [
    "prob = LpProblem(\"Simple Diet Problem\",LpMaximize)"
   ]
  },
  {
   "cell_type": "code",
   "execution_count": 7,
   "id": "ce2f2655",
   "metadata": {},
   "outputs": [],
   "source": [
    "\n",
    "\n",
    "\n",
    "# The objective function is added to 'prob' first\n",
    "prob += lpSum([vit_C[i]*food_vars[i] for i in food_items]), \"Total Cost of the balanced diet\""
   ]
  },
  {
   "cell_type": "code",
   "execution_count": 8,
   "id": "a639e1dc",
   "metadata": {},
   "outputs": [],
   "source": [
    "prob += lpSum([calories[f] * food_vars[f] for f in food_items]) >= 20, \"CalorieMinimum\"\n",
    "prob += lpSum([calories[f] * food_vars[f] for f in food_items]) <= 100, \"CalorieMaximum\"\n",
    "\n",
    "\n",
    "# Fat\n",
    "prob += lpSum([fat[f] * food_vars[f] for f in food_items]) >= 600, \"FatMinimum\"\n",
    "prob += lpSum([fat[f] * food_vars[f] for f in food_items]) <= 500, \"FatMaximum\"\n",
    "\n",
    "# Carbs\n",
    "prob += lpSum([carbs[f] * food_vars[f] for f in food_items]) >= np.min(Carbohydrate_), \"CarbsMinimum\"\n",
    "prob += lpSum([carbs[f] * food_vars[f] for f in food_items]) <= np.mean(Carbohydrate_), \"CarbsMaximum\"\n",
    "\n",
    "# sugar\n",
    "prob += lpSum([Sugar[f] * food_vars[f] for f in food_items]) >= np.min(Sugar_), \"SugarMinimum\"\n",
    "prob += lpSum([Sugar[f] * food_vars[f] for f in food_items]) <= np.mean(Sugar_)-np.std(Sugar_), \"SugarMaximum\"\n",
    "\n",
    "#Protein\n",
    "prob += lpSum([protein[f] * food_vars[f] for f in food_items]) >= np.min(Protein_), \"ProteinMinimum\"\n",
    "prob += lpSum([protein[f] * food_vars[f] for f in food_items]) <= np.mean(Protein_), \"ProteinMaximum\""
   ]
  },
  {
   "cell_type": "code",
   "execution_count": 9,
   "id": "b4c68d5a",
   "metadata": {},
   "outputs": [
    {
     "name": "stdout",
     "output_type": "stream",
     "text": [
      "1\n"
     ]
    }
   ],
   "source": [
    "prob.writeLP(\"SimpleDietProblem.lp\")\n",
    "print(1)"
   ]
  },
  {
   "cell_type": "code",
   "execution_count": 10,
   "id": "e04de67b",
   "metadata": {},
   "outputs": [
    {
     "data": {
      "text/plain": [
       "-1"
      ]
     },
     "execution_count": 10,
     "metadata": {},
     "output_type": "execute_result"
    }
   ],
   "source": [
    "prob.solve()"
   ]
  },
  {
   "cell_type": "code",
   "execution_count": 11,
   "id": "d0c888ee",
   "metadata": {},
   "outputs": [
    {
     "name": "stdout",
     "output_type": "stream",
     "text": [
      "Status: Infeasible\n"
     ]
    }
   ],
   "source": [
    "print(\"Status:\", LpStatus[prob.status])"
   ]
  },
  {
   "cell_type": "code",
   "execution_count": 12,
   "id": "1f738235",
   "metadata": {},
   "outputs": [
    {
     "name": "stdout",
     "output_type": "stream",
     "text": [
      "Therefore, the optimal (least cost) balanced diet consists of\n",
      "--------------------------------------------------------------------------------------------------------------\n",
      "Food_name_:_COFFEE_SUB,CRL_GRAIN_BEV,PDR,PREP_W__WHL_MILK = 3.5480937\n"
     ]
    }
   ],
   "source": [
    "print(\"Therefore, the optimal (least cost) balanced diet consists of\\n\"+\"-\"*110)\n",
    "\n",
    "food_data = []\n",
    "c_Value = []\n",
    "for v in prob.variables():\n",
    "    if bool(v.varValue) != 0:\n",
    "        if v.varValue > 0:\n",
    "            print(v.name, \"=\", v.varValue)\n",
    "            food_data += [v.name]\n",
    "            c_Value += [v.varValue]\n",
    "            "
   ]
  },
  {
   "cell_type": "code",
   "execution_count": 13,
   "id": "e0660fce",
   "metadata": {},
   "outputs": [],
   "source": [
    "food_data = np.array(food_data)"
   ]
  },
  {
   "cell_type": "code",
   "execution_count": 14,
   "id": "30d96415",
   "metadata": {},
   "outputs": [
    {
     "data": {
      "text/plain": [
       "array([], dtype='<U57')"
      ]
     },
     "execution_count": 14,
     "metadata": {},
     "output_type": "execute_result"
    }
   ],
   "source": [
    "idx = np.argsort(c_Value)[::-1]\n",
    "sorted_data = food_data[idx]\n",
    "sorted_data[1:4]"
   ]
  },
  {
   "cell_type": "code",
   "execution_count": 15,
   "id": "855248fb",
   "metadata": {},
   "outputs": [
    {
     "data": {
      "text/plain": [
       "array([3.5480937])"
      ]
     },
     "execution_count": 15,
     "metadata": {},
     "output_type": "execute_result"
    }
   ],
   "source": [
    "c_Value_sort = np.sort(c_Value)\n",
    "c_Value_sort "
   ]
  },
  {
   "cell_type": "code",
   "execution_count": 16,
   "id": "2958e22f",
   "metadata": {},
   "outputs": [
    {
     "data": {
      "text/plain": [
       "(1,)"
      ]
     },
     "execution_count": 16,
     "metadata": {},
     "output_type": "execute_result"
    }
   ],
   "source": [
    "c_Value_sort.shape"
   ]
  },
  {
   "cell_type": "code",
   "execution_count": 17,
   "id": "874517ba",
   "metadata": {},
   "outputs": [
    {
     "name": "stdout",
     "output_type": "stream",
     "text": [
      "1\n",
      "Status: Infeasible\n",
      "Therefore, the optimal (least cost) balanced diet consists of\n",
      "--------------------------------------------------------------------------------------------------------------\n",
      "Food_name_:_FAT,GOOSE = 6.012024\n"
     ]
    }
   ],
   "source": [
    "prob = LpProblem(\"Simple Diet Problem\",LpMinimize)\n",
    "\n",
    "prob += lpSum([costs[i]*food_vars[i] for i in food_items]), \"Total Cost of the balanced diet\"\n",
    "\n",
    "prob += lpSum([calories[f] * food_vars[f] for f in food_items]) >= 20, \"CalorieMinimum\"\n",
    "prob += lpSum([calories[f] * food_vars[f] for f in food_items]) <= 100, \"CalorieMaximum\"\n",
    "\n",
    "\n",
    "# Fat\n",
    "prob += lpSum([fat[f] * food_vars[f] for f in food_items]) >= 600, \"FatMinimum\"\n",
    "prob += lpSum([fat[f] * food_vars[f] for f in food_items]) <= 500, \"FatMaximum\"\n",
    "\n",
    "# Carbs\n",
    "prob += lpSum([carbs[f] * food_vars[f] for f in food_items]) >= np.min(Carbohydrate_), \"CarbsMinimum\"\n",
    "prob += lpSum([carbs[f] * food_vars[f] for f in food_items]) <= np.mean(Carbohydrate_), \"CarbsMaximum\"\n",
    "\n",
    "# sugar\n",
    "prob += lpSum([Sugar[f] * food_vars[f] for f in food_items]) >= np.min(Sugar_), \"SugarMinimum\"\n",
    "prob += lpSum([Sugar[f] * food_vars[f] for f in food_items]) <= np.mean(Sugar_)-np.std(Sugar_), \"SugarMaximum\"\n",
    "\n",
    "#Protein\n",
    "prob += lpSum([protein[f] * food_vars[f] for f in food_items]) >= np.min(Protein_), \"ProteinMinimum\"\n",
    "prob += lpSum([protein[f] * food_vars[f] for f in food_items]) <= np.mean(Protein_), \"ProteinMaximum\"\n",
    "prob.writeLP(\"SimpleDietProblem.lp\")\n",
    "print(1)\n",
    "prob.solve()\n",
    "print(\"Status:\", LpStatus[prob.status])\n",
    "print(\"Therefore, the optimal (least cost) balanced diet consists of\\n\"+\"-\"*110)\n",
    "\n",
    "food_data = []\n",
    "c_Value = []\n",
    "for v in prob.variables():\n",
    "    if bool(v.varValue) != 0:\n",
    "        if v.varValue > 0:\n",
    "            print(v.name, \"=\", v.varValue)\n",
    "            food_data += [v.name]\n",
    "            c_Value += [v.varValue]"
   ]
  },
  {
   "cell_type": "code",
   "execution_count": null,
   "id": "bebf7144",
   "metadata": {},
   "outputs": [],
   "source": []
  }
 ],
 "metadata": {
  "kernelspec": {
   "display_name": "Python 3 (ipykernel)",
   "language": "python",
   "name": "python3"
  },
  "language_info": {
   "codemirror_mode": {
    "name": "ipython",
    "version": 3
   },
   "file_extension": ".py",
   "mimetype": "text/x-python",
   "name": "python",
   "nbconvert_exporter": "python",
   "pygments_lexer": "ipython3",
   "version": "3.8.10"
  }
 },
 "nbformat": 4,
 "nbformat_minor": 5
}
